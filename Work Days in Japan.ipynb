{
  "cells": [
    {
      "metadata": {
        "trusted": true
      },
      "cell_type": "code",
      "source": "!pip install workdays",
      "execution_count": 13,
      "outputs": [
        {
          "output_type": "stream",
          "text": "Collecting workdays\n  Downloading https://files.pythonhosted.org/packages/6c/fc/82bda622103b7cf2a07fec350a7eb46dfab513064c8947a79bd122f35794/workdays-1.4.tar.gz\nBuilding wheels for collected packages: workdays\n  Building wheel for workdays (setup.py) ... \u001b[?25ldone\n\u001b[?25h  Created wheel for workdays: filename=workdays-1.4-cp36-none-any.whl size=4027 sha256=f1882cb875ca3dae5711fde3629a16362b7395a105ab1036d5e22c588879b547\n  Stored in directory: /home/nbuser/.cache/pip/wheels/65/21/da/8299753d94c7ae96639d69b548003de696c91530d49ea25730\nSuccessfully built workdays\nInstalling collected packages: workdays\nSuccessfully installed workdays-1.4\n\u001b[33mWARNING: You are using pip version 19.3.1; however, version 20.1 is available.\nYou should consider upgrading via the 'pip install --upgrade pip' command.\u001b[0m\n",
          "name": "stdout"
        }
      ]
    },
    {
      "metadata": {
        "trusted": true
      },
      "cell_type": "code",
      "source": "#coding:utf-8\nimport numpy as np \nimport pandas as pd \nimport matplotlib.pyplot as plt\nfrom datetime import datetime\nimport warnings\nwarnings.filterwarnings('ignore')\nimport plotly\nimport sklearn\nimport plotly.graph_objects as go\nimport plotly.express as px\nimport datetime\nimport workdays #稼働日算出に使う 祝日は含めない",
      "execution_count": 14,
      "outputs": []
    },
    {
      "metadata": {
        "trusted": true
      },
      "cell_type": "code",
      "source": "holiday = pd.read_csv('./in_data/syukujitsu.csv', engine='python', encoding='cp932')",
      "execution_count": 10,
      "outputs": []
    },
    {
      "metadata": {
        "trusted": true
      },
      "cell_type": "code",
      "source": "holiday_list = pd.to_datetime(holiday['国民の祝日・休日月日'])",
      "execution_count": 18,
      "outputs": []
    },
    {
      "metadata": {
        "trusted": true
      },
      "cell_type": "code",
      "source": "#二つの日にちの間の稼働日を算出する\nstart_date = datetime.datetime(2020, 6, 1)\nend_date = datetime.datetime(2020,6,30)\n\nworkdays.networkdays(start_date, end_date, holidays=holiday_list)",
      "execution_count": 41,
      "outputs": [
        {
          "output_type": "execute_result",
          "execution_count": 41,
          "data": {
            "text/plain": "22"
          },
          "metadata": {}
        }
      ]
    },
    {
      "metadata": {
        "trusted": true
      },
      "cell_type": "code",
      "source": "#月初の日のリスト。endのリストと合わせるために最終月はカット\nst_lis = pd.date_range(start='2001-01', end='2021-01', freq='MS')[:-1]",
      "execution_count": 38,
      "outputs": []
    },
    {
      "metadata": {
        "trusted": true
      },
      "cell_type": "code",
      "source": "#月末日のリスト\nen_lis = pd.date_range(start='2001-01', end='2021-01', freq='M')",
      "execution_count": 40,
      "outputs": []
    },
    {
      "metadata": {
        "trusted": true
      },
      "cell_type": "code",
      "source": "#index用にmonthの文字列リストを作る\nmonth_lis = st_lis.strftime('%Y%m')",
      "execution_count": 45,
      "outputs": []
    },
    {
      "metadata": {
        "trusted": true
      },
      "cell_type": "code",
      "source": "work_lis = []\nfor s, e in zip(st_lis, en_lis):\n    work_lis.append(workdays.networkdays(start_date=s, end_date=e, holidays=holiday_list))",
      "execution_count": 43,
      "outputs": []
    },
    {
      "metadata": {
        "trusted": true
      },
      "cell_type": "code",
      "source": "df = pd.DataFrame({'month':month_lis, '稼働日数':work_lis})",
      "execution_count": 47,
      "outputs": []
    },
    {
      "metadata": {
        "trusted": true
      },
      "cell_type": "code",
      "source": "df.to_csv('./out_data/workdays_Japan.csv', encoding='cp932', index=False)",
      "execution_count": 48,
      "outputs": []
    },
    {
      "metadata": {
        "trusted": true
      },
      "cell_type": "code",
      "source": "df.index = df['month']",
      "execution_count": 50,
      "outputs": []
    },
    {
      "metadata": {
        "trusted": true
      },
      "cell_type": "code",
      "source": "df['稼働日数']['201905']",
      "execution_count": 55,
      "outputs": [
        {
          "output_type": "execute_result",
          "execution_count": 55,
          "data": {
            "text/plain": "19"
          },
          "metadata": {}
        }
      ]
    },
    {
      "metadata": {
        "trusted": true
      },
      "cell_type": "code",
      "source": "df",
      "execution_count": null,
      "outputs": []
    }
  ],
  "metadata": {
    "hide_input": false,
    "toc": {
      "nav_menu": {},
      "number_sections": true,
      "sideBar": true,
      "skip_h1_title": false,
      "base_numbering": 1,
      "title_cell": "Table of Contents",
      "title_sidebar": "Contents",
      "toc_cell": false,
      "toc_position": {},
      "toc_section_display": true,
      "toc_window_display": false
    },
    "kernelspec": {
      "name": "python36",
      "display_name": "Python 3.6",
      "language": "python"
    },
    "language_info": {
      "mimetype": "text/x-python",
      "nbconvert_exporter": "python",
      "name": "python",
      "pygments_lexer": "ipython3",
      "version": "3.6.6",
      "file_extension": ".py",
      "codemirror_mode": {
        "version": 3,
        "name": "ipython"
      }
    }
  },
  "nbformat": 4,
  "nbformat_minor": 1
}